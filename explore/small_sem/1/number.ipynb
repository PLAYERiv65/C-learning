{
 "cells": [
  {
   "cell_type": "code",
   "execution_count": 13,
   "metadata": {},
   "outputs": [],
   "source": [
    "#加载手写数字数据\n",
    "import numpy as np\n",
    "from sklearn import datasets\n",
    "dataset = datasets.load_digits()\n",
    "data_size = len(dataset.data)\n",
    "indices = np.arange(data_size)\n",
    "np.random.RandomState(1).shuffle(indices)#确保结果可重现"
   ]
  },
  {
   "cell_type": "markdown",
   "metadata": {},
   "source": [
    "### 逻辑回归法分类"
   ]
  },
  {
   "cell_type": "code",
   "execution_count": null,
   "metadata": {},
   "outputs": [],
   "source": [
    "from sklearn.linear_model import LogisticRegression\n",
    "from sklearn.preprocessing import StandardScaler\n",
    "from sklearn.model_selection import train_test_split\n",
    "from sklearn.metrics import accuracy_score\n",
    "from sklearn.metrics import classification_report \n",
    "from sklearn.metrics import confusion_matrix\n",
    "#数据处理\n",
    "X, y = dataset.data[indices], dataset.target[indices]\n",
    "#X = StandardScaler().fit_transform(X)\n",
    "X_train,X_test,y_train,y_test=train_test_split(X,y,test_size=0.3,random_state=1) \n",
    "logistic_model = LogisticRegression(max_iter=10000)\n",
    "#训练与评估\n",
    "logistic_model.fit(X_train, y_train)\n",
    "y_pred = logistic_model.predict(X_test)\n",
    "print('accuracy_score:',accuracy_score(y_test, y_pred))\n",
    "print('classification_report:',classification_report(y_test, y_pred))\n",
    "print('confusion_matrix:',confusion_matrix(y_test, y_pred))\n",
    "\n",
    "#同上，但使用贝叶斯分类器\n",
    "from sklearn.naive_bayes import GaussianNB\n",
    "bayes_model = GaussianNB()\n",
    "bayes_model.fit(X_train, y_train)\n",
    "y_pred = bayes_model.predict(X_test)\n",
    "print('accuracy_score:',accuracy_score(y_test, y_pred))\n",
    "print('classification_report:',classification_report(y_test, y_pred))\n",
    "print('confusion_matrix:',confusion_matrix(y_test, y_pred))\n",
    "\n",
    "#同上，但使用支持向量机分类器\n",
    "from sklearn.svm import SVC\n",
    "svm_model = SVC()\n",
    "svm_model.fit(X_train, y_train)\n",
    "y_pred = svm_model.predict(X_test)\n",
    "print('accuracy_score:',accuracy_score(y_test, y_pred))\n",
    "print('classification_report:',classification_report(y_test, y_pred))\n",
    "print('confusion_matrix:',confusion_matrix(y_test, y_pred))\n",
    "\n",
    "#同上，但使用决策树分类器\n",
    "from sklearn.tree import DecisionTreeClassifier\n",
    "tree_model = DecisionTreeClassifier()\n",
    "tree_model.fit(X_train, y_train)\n",
    "y_pred = tree_model.predict(X_test)\n",
    "print('accuracy_score:',accuracy_score(y_test, y_pred))\n",
    "print('classification_report:',classification_report(y_test, y_pred))\n",
    "print('confusion_matrix:',confusion_matrix(y_test, y_pred))\n"
   ]
  }
 ],
 "metadata": {
  "kernelspec": {
   "display_name": "learning",
   "language": "python",
   "name": "python3"
  },
  "language_info": {
   "codemirror_mode": {
    "name": "ipython",
    "version": 3
   },
   "file_extension": ".py",
   "mimetype": "text/x-python",
   "name": "python",
   "nbconvert_exporter": "python",
   "pygments_lexer": "ipython3",
   "version": "3.11.9"
  }
 },
 "nbformat": 4,
 "nbformat_minor": 2
}
